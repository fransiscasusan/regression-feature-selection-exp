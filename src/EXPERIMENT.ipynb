{
 "cells": [
  {
   "cell_type": "code",
   "execution_count": 1,
   "metadata": {
    "collapsed": true
   },
   "outputs": [],
   "source": [
    "import numpy as np\n",
    "import pandas as pd\n",
    "from timeit import default_timer as timer\n",
    "from sklearn import linear_model\n",
    "import sklearn\n",
    "from sklearn.linear_model import OrthogonalMatchingPursuit\n",
    "from sklearn.linear_model import OrthogonalMatchingPursuitCV\n",
    "from sklearn.linear_model import Ridge\n",
    "from sklearn.linear_model import Ridge"
   ]
  },
  {
   "cell_type": "markdown",
   "metadata": {},
   "source": [
    "# Generating Synthetic Data"
   ]
  },
  {
   "cell_type": "code",
   "execution_count": 2,
   "metadata": {
    "collapsed": true
   },
   "outputs": [],
   "source": [
    "def generateX(n,rho,p):\n",
    "    cov_matrix = rho*np.ones((p,p))\n",
    "    cov_matrix = cov_matrix + (1-rho)*np.identity(p)\n",
    "    X = np.random.multivariate_normal(np.zeros(p), cov_matrix, n)\n",
    "    return(X)"
   ]
  },
  {
   "cell_type": "code",
   "execution_count": 3,
   "metadata": {
    "collapsed": true
   },
   "outputs": [],
   "source": [
    "def generateStrongSignal(p,k):\n",
    "    beta = np.zeros(p)\n",
    "    for i in range(k):\n",
    "        beta[i] = 1.0\n",
    "    return(beta)"
   ]
  },
  {
   "cell_type": "code",
   "execution_count": 4,
   "metadata": {
    "collapsed": true
   },
   "outputs": [],
   "source": [
    "def generateWeakSignal(p,k):\n",
    "    beta = np.zeros(p)\n",
    "    for i in range(k):\n",
    "        beta[i] = 1.0\n",
    "    return(0.01*beta)"
   ]
  },
  {
   "cell_type": "code",
   "execution_count": 5,
   "metadata": {
    "collapsed": true
   },
   "outputs": [],
   "source": [
    "def generateVariedSignal(p,k):\n",
    "    beta = np.zeros(p)\n",
    "    for i in range(k):\n",
    "        beta[i] = (i+1)*1.0/k\n",
    "    return(beta)"
   ]
  },
  {
   "cell_type": "code",
   "execution_count": 6,
   "metadata": {
    "collapsed": true
   },
   "outputs": [],
   "source": [
    "'''\n",
    "type_of_signal: 1. weak, 2. strong, 3. varied\n",
    "'''\n",
    "\n",
    "def generateBeta(p,k,type_of_signal):\n",
    "    if type_of_signal not in [1,2,3]:\n",
    "        print(\"Signal Error\")\n",
    "        return(None)\n",
    "    if type_of_signal == 1:\n",
    "        return(generateWeakSignal(p,k))\n",
    "    elif type_of_signal == 2:\n",
    "        return(generateStrongSignal(p,k))\n",
    "    else:\n",
    "        return(generateVariedSignal(p,k))"
   ]
  },
  {
   "cell_type": "code",
   "execution_count": 61,
   "metadata": {
    "collapsed": true
   },
   "outputs": [],
   "source": [
    "def generateY(X,beta):\n",
    "    n,p = X.shape\n",
    "#     epsilon = np.random.multivariate_normal(np.zeros(n), np.identity(n)*beta[0]*0.01)\n",
    "    epsilon = np.random.multivariate_normal(np.zeros(n), np.identity(n))\n",
    "    y = X.dot(beta) + epsilon\n",
    "    return(y)"
   ]
  },
  {
   "cell_type": "code",
   "execution_count": 53,
   "metadata": {
    "collapsed": true
   },
   "outputs": [],
   "source": [
    "p = 1000\n",
    "# NS = [1000,5000,10000]\n",
    "# NS = [500,1000]\n",
    "NS = [1000]"
   ]
  },
  {
   "cell_type": "code",
   "execution_count": 130,
   "metadata": {
    "collapsed": false
   },
   "outputs": [
    {
     "name": "stdout",
     "output_type": "stream",
     "text": [
      "CPU times: user 1.37 s, sys: 42.5 ms, total: 1.42 s\n",
      "Wall time: 726 ms\n"
     ]
    }
   ],
   "source": [
    "%%time\n",
    "\n",
    "k = 100\n",
    "signal_type = 3\n",
    "# n = 10000\n",
    "# num_batch = int(n/1000)\n",
    "n = 1000\n",
    "num_batch = 1\n",
    "rho = 0\n",
    "\n",
    "true_beta = generateBeta(p,k,signal_type)\n",
    "Xs = []\n",
    "ys = []\n",
    "for i in range(num_batch):\n",
    "    Xi = generateX(1000,rho,p)\n",
    "    Xs.append(Xi)\n",
    "    ys.append(generateY(Xi,true_beta).reshape((1000,1)))\n",
    "X = np.vstack(Xs)\n",
    "y = np.vstack(ys)\n",
    "\n",
    "omp = OrthogonalMatchingPursuit(n_nonzero_coefs=k)\n",
    "omp.fit(X, y)\n",
    "coef = omp.coef_\n",
    "min_offline_regret = np.sum(np.square(X.dot(coef)-y))"
   ]
  },
  {
   "cell_type": "code",
   "execution_count": 47,
   "metadata": {
    "collapsed": false
   },
   "outputs": [
    {
     "data": {
      "text/plain": [
       "((1000, 1000), (1000, 1))"
      ]
     },
     "execution_count": 47,
     "metadata": {},
     "output_type": "execute_result"
    }
   ],
   "source": [
    "X.shape, y.shape"
   ]
  },
  {
   "cell_type": "code",
   "execution_count": 106,
   "metadata": {
    "collapsed": false
   },
   "outputs": [
    {
     "data": {
      "text/plain": [
       "0.0"
      ]
     },
     "execution_count": 106,
     "metadata": {},
     "output_type": "execute_result"
    }
   ],
   "source": [
    "s = []\n",
    "for i in range(50):\n",
    "    k = 10\n",
    "    signal_type = 1\n",
    "    n = 1000\n",
    "    num_batch = 1\n",
    "    rho = 0\n",
    "\n",
    "    true_beta = generateBeta(p,k,signal_type)\n",
    "    X = generateX(1000,rho,p)\n",
    "    y = generateY(X,true_beta).reshape((1000,1))\n",
    "\n",
    "    s.append(run_Lasso(X,y,true_beta,k))\n",
    "\n",
    "np.mean(s)"
   ]
  },
  {
   "cell_type": "code",
   "execution_count": 107,
   "metadata": {
    "collapsed": false
   },
   "outputs": [
    {
     "data": {
      "text/plain": [
       "0.44880000000000003"
      ]
     },
     "execution_count": 107,
     "metadata": {},
     "output_type": "execute_result"
    }
   ],
   "source": [
    "s = []\n",
    "for i in range(50):\n",
    "    k = 100\n",
    "    signal_type = 2\n",
    "    n = 1000\n",
    "    num_batch = 1\n",
    "    rho = 0\n",
    "\n",
    "    true_beta = generateBeta(p,k,signal_type)\n",
    "    X = generateX(1000,rho,p)\n",
    "    y = generateY(X,true_beta).reshape((1000,1))\n",
    "\n",
    "    s.append(run_Lasso(X,y,true_beta,k))\n",
    "    \n",
    "np.mean(s)"
   ]
  },
  {
   "cell_type": "markdown",
   "metadata": {},
   "source": [
    "# Model Implementation"
   ]
  },
  {
   "cell_type": "markdown",
   "metadata": {},
   "source": [
    "## Implementing OMP"
   ]
  },
  {
   "cell_type": "code",
   "execution_count": 94,
   "metadata": {
    "collapsed": true
   },
   "outputs": [],
   "source": [
    "'''\n",
    "Orthogonal Matching Pursuit ALGORITHM\n",
    "'''\n",
    "def run_omp(X,y,true_beta,k):\n",
    "    start = timer()\n",
    "\n",
    "    n, p = X.shape    \n",
    "    omp = OrthogonalMatchingPursuit(n_nonzero_coefs=k)\n",
    "    omp.fit(X, y)\n",
    "    beta = omp.coef_\n",
    "    \n",
    "    ypred = omp.predict(X)    \n",
    "    squared_error_sum = np.sum(np.square(ypred-y))\n",
    "    \n",
    "    end = timer()\n",
    "    Time = end-start\n",
    "    \n",
    "    RMSE = np.sqrt(squared_error_sum*1.0/n)\n",
    "    DR = (np.sum((np.multiply(true_beta,beta)!=0)*1.0))*1.0/k\n",
    "    \n",
    "    SS_tot = np.sum(np.square(y-np.mean(y)))\n",
    "    Rsquared = 1-squared_error_sum*1.0/SS_tot\n",
    "\n",
    "    print(RMSE,DR,Rsquared,Time,'OMP')    \n",
    "    return(RMSE,DR,Rsquared,Time,squared_error_sum*1.0/n)"
   ]
  },
  {
   "cell_type": "code",
   "execution_count": 44,
   "metadata": {
    "collapsed": false
   },
   "outputs": [
    {
     "name": "stdout",
     "output_type": "stream",
     "text": [
      "139.44754343017448 1.0 -1998.074455957402 0.025807139929383993 OMP\n"
     ]
    },
    {
     "data": {
      "text/plain": [
       "(139.44754343017448,\n",
       " 1.0,\n",
       " -1998.074455957402,\n",
       " 0.025807139929383993,\n",
       " 19445.6173687104)"
      ]
     },
     "execution_count": 44,
     "metadata": {},
     "output_type": "execute_result"
    }
   ],
   "source": [
    "# k=10\n",
    "run_omp(X,y,true_beta,k)"
   ]
  },
  {
   "cell_type": "code",
   "execution_count": 101,
   "metadata": {
    "collapsed": false
   },
   "outputs": [
    {
     "name": "stdout",
     "output_type": "stream",
     "text": [
      "433.123836440686 1.0 -1989.4969425684103 0.06176298903301358 OMP\n"
     ]
    },
    {
     "data": {
      "text/plain": [
       "(433.123836440686,\n",
       " 1.0,\n",
       " -1989.4969425684103,\n",
       " 0.06176298903301358,\n",
       " 187596.2576930981)"
      ]
     },
     "execution_count": 101,
     "metadata": {},
     "output_type": "execute_result"
    }
   ],
   "source": [
    "# k=100\n",
    "run_omp(X,y,true_beta,k)"
   ]
  },
  {
   "cell_type": "markdown",
   "metadata": {},
   "source": [
    "## Implementing LASSO"
   ]
  },
  {
   "cell_type": "code",
   "execution_count": 122,
   "metadata": {
    "collapsed": true
   },
   "outputs": [],
   "source": [
    "'''\n",
    "LASSO ALGORITHM\n",
    "'''\n",
    "def run_Lasso(X,y,true_beta,k,CURRENT_RANDOM_SEED=1):\n",
    "    start = timer()\n",
    "    n, p = X.shape\n",
    "    \n",
    "    lasso_model = linear_model.Lasso(alpha = 1.0,random_state=CURRENT_RANDOM_SEED)\n",
    "    lasso_model.fit(X,y)\n",
    "    beta = lasso_model.coef_\n",
    "    ypred = lasso_model.predict(X)\n",
    "    \n",
    "    squared_error_sum = np.sum(np.square(ypred-y))\n",
    "    \n",
    "    end = timer()\n",
    "    Time = end-start\n",
    "    \n",
    "    RMSE = np.sqrt(squared_error_sum*1.0/n)\n",
    "    DR = (np.sum((np.multiply(true_beta,beta)!=0)*1.0))*1.0/k\n",
    "    \n",
    "    SS_tot = np.sum(np.square(y-np.mean(y)))\n",
    "    Rsquared = 1-squared_error_sum*1.0/SS_tot\n",
    "    \n",
    "    print(RMSE,DR,Rsquared,Time,'LASSO')    \n",
    "    return(DR)"
   ]
  },
  {
   "cell_type": "code",
   "execution_count": 125,
   "metadata": {
    "collapsed": false
   },
   "outputs": [
    {
     "name": "stdout",
     "output_type": "stream",
     "text": [
      "103.62166773997666 0.4 -1000.7139984445095 0.02444210695102811 LASSO\n"
     ]
    },
    {
     "data": {
      "text/plain": [
       "0.4"
      ]
     },
     "execution_count": 125,
     "metadata": {},
     "output_type": "execute_result"
    }
   ],
   "source": [
    "#k=10,strong\n",
    "\n",
    "run_Lasso(X,y,true_beta,k)"
   ]
  },
  {
   "cell_type": "code",
   "execution_count": 123,
   "metadata": {
    "collapsed": false
   },
   "outputs": [
    {
     "name": "stdout",
     "output_type": "stream",
     "text": [
      "32.04898703665147 0.0 -999.0000000000002 0.030062678968533874 LASSO\n"
     ]
    },
    {
     "data": {
      "text/plain": [
       "0.0"
      ]
     },
     "execution_count": 123,
     "metadata": {},
     "output_type": "execute_result"
    }
   ],
   "source": [
    "#k=10,weak\n",
    "\n",
    "run_Lasso(X,y,true_beta,k)"
   ]
  },
  {
   "cell_type": "code",
   "execution_count": 127,
   "metadata": {
    "collapsed": false
   },
   "outputs": [
    {
     "name": "stdout",
     "output_type": "stream",
     "text": [
      "66.39607461195448 0.0 -998.9999999999999 0.020445049973204732 LASSO\n"
     ]
    },
    {
     "data": {
      "text/plain": [
       "0.0"
      ]
     },
     "execution_count": 127,
     "metadata": {},
     "output_type": "execute_result"
    }
   ],
   "source": [
    "#k=10,varied\n",
    "\n",
    "run_Lasso(X,y,true_beta,k)"
   ]
  },
  {
   "cell_type": "code",
   "execution_count": 79,
   "metadata": {
    "collapsed": false
   },
   "outputs": [
    {
     "name": "stdout",
     "output_type": "stream",
     "text": [
      "308.02388535513546 0.33 -1023.7758201939996 0.02579942694865167 LASSO\n"
     ]
    },
    {
     "data": {
      "text/plain": [
       "()"
      ]
     },
     "execution_count": 79,
     "metadata": {},
     "output_type": "execute_result"
    }
   ],
   "source": [
    "#k=100\n",
    "\n",
    "run_Lasso(X,y,true_beta,k)"
   ]
  },
  {
   "cell_type": "markdown",
   "metadata": {},
   "source": [
    "## Implementing TSGD"
   ]
  },
  {
   "cell_type": "code",
   "execution_count": 29,
   "metadata": {
    "collapsed": true
   },
   "outputs": [],
   "source": [
    "'''\n",
    "Truncation function for TSGD Algorithm\n",
    "'''\n",
    "def truncate(beta,k):\n",
    "    p = beta.shape[0]\n",
    "    sorted_indices = np.abs(beta).argsort()[::-1].tolist()\n",
    "    dummy = np.zeros(p)\n",
    "    for el in sorted_indices[:k]:\n",
    "        dummy[el] = 1.0\n",
    "    return(np.multiply(beta,dummy))"
   ]
  },
  {
   "cell_type": "code",
   "execution_count": 24,
   "metadata": {
    "collapsed": true
   },
   "outputs": [],
   "source": [
    "'''\n",
    "TSGD ALGORITHM\n",
    "'''\n",
    "def run_TSGD(X,y,true_beta,k,min_offline_errors):\n",
    "    start = timer()\n",
    "\n",
    "    n, p = X.shape\n",
    "    ns = NS\n",
    "    ns = [nn-1 for nn in ns]\n",
    "    n_idx = 0\n",
    "    eta = np.log(ns[n_idx])*1.0/ns[n_idx]\n",
    "\n",
    "    squared_error_sum = 0\n",
    "    true_support_sum = 0\n",
    "\n",
    "    beta = np.random.rand(p)-0.5\n",
    "    for i in range(n):\n",
    "        prev_beta = beta\n",
    "        y_pred = X[i,:].dot(prev_beta)\n",
    "        \n",
    "        loss_i = (y_pred-y[i,])**2\n",
    "        current_detection_rate = (np.sum((np.multiply(true_beta,prev_beta)!=0)*1.0))*1.0/k\n",
    "        squared_error_sum += loss_i\n",
    "        true_support_sum += current_detection_rate\n",
    "        \n",
    "        beta = prev_beta + eta*(y[i]-np.dot(X[i,:],prev_beta))*X[i,:]\n",
    "        beta = truncate(beta,k)\n",
    "\n",
    "        if i in ns:\n",
    "            end = timer()\n",
    "            Time = end-start\n",
    "            \n",
    "            RMSE = np.sqrt(squared_error_sum*1.0/i)\n",
    "            DR = true_support_sum*1.0/i\n",
    "\n",
    "            SS_tot = np.sum(np.square(y[:i+1]-np.mean(y[:i+1])))\n",
    "            Rsquared = 1-squared_error_sum*1.0/SS_tot\n",
    "            \n",
    "            regret = squared_error_sum*1.0/i - min_offline_errors[n_idx]\n",
    "\n",
    "            if n_idx != len(ns) - 1:\n",
    "                n_idx += 1\n",
    "                eta = np.log(ns[n_idx])*1.0/ns[n_idx]\n",
    "\n",
    "            print(RMSE[0],DR,Rsquared[0],Time,regret[0],i+1,'TSGD')\n",
    "    \n",
    "    return()"
   ]
  },
  {
   "cell_type": "code",
   "execution_count": 71,
   "metadata": {
    "collapsed": false
   },
   "outputs": [
    {
     "name": "stdout",
     "output_type": "stream",
     "text": [
      "2.3411812159035787 0.15355355355355338 0.024366969131436433 0.10970593197271228 -19440.1362392247 1000 TSGD\n"
     ]
    },
    {
     "data": {
      "text/plain": [
       "()"
      ]
     },
     "execution_count": 71,
     "metadata": {},
     "output_type": "execute_result"
    }
   ],
   "source": [
    "#k=5\n",
    "run_TSGD(X,y,true_beta,k,min_offline_errors)"
   ]
  },
  {
   "cell_type": "code",
   "execution_count": 129,
   "metadata": {
    "collapsed": false
   },
   "outputs": [
    {
     "name": "stdout",
     "output_type": "stream",
     "text": [
      "2.0800460568006334 0.16876876876877026 0.10021613326151524 0.12195924506522715 -19441.290777111986 1000 TSGD\n"
     ]
    },
    {
     "data": {
      "text/plain": [
       "()"
      ]
     },
     "execution_count": 129,
     "metadata": {},
     "output_type": "execute_result"
    }
   ],
   "source": [
    "#k=10\n",
    "run_TSGD(X,y,true_beta,k,min_offline_errors)"
   ]
  },
  {
   "cell_type": "code",
   "execution_count": 134,
   "metadata": {
    "collapsed": false
   },
   "outputs": [
    {
     "name": "stdout",
     "output_type": "stream",
     "text": [
      "7.804599320867919 0.14143143143143186 -0.7576794697734834 0.11690987995825708 -19384.705598151108 1000 TSGD\n"
     ]
    },
    {
     "data": {
      "text/plain": [
       "()"
      ]
     },
     "execution_count": 134,
     "metadata": {},
     "output_type": "execute_result"
    }
   ],
   "source": [
    "#k=100\n",
    "run_TSGD(X,y,true_beta,k,min_offline_errors)"
   ]
  },
  {
   "cell_type": "markdown",
   "metadata": {},
   "source": [
    "## Implementing OLST"
   ]
  },
  {
   "cell_type": "code",
   "execution_count": 34,
   "metadata": {
    "collapsed": true
   },
   "outputs": [],
   "source": [
    "'''\n",
    "OLST ALGORITHM\n",
    "'''\n",
    "def run_OLST(X,y,true_beta,k,rho,min_offline_errors):\n",
    "    start = timer()\n",
    "    n, p = X.shape\n",
    "    ns = NS\n",
    "    ns = [nn-1 for nn in ns]\n",
    "    n_idx = 0\n",
    "    y = y.reshape((n,1))\n",
    "\n",
    "    squared_error_sum = 0\n",
    "    true_support_sum = 0\n",
    "\n",
    "    beta = np.random.rand(p)-0.5\n",
    "\n",
    "    #INITIALIZATION\n",
    "    mu_x = np.zeros((p))\n",
    "    mu_y = 0\n",
    "    S_xx = np.zeros((p,p))\n",
    "    S_xy = np.zeros((p,1))\n",
    "\n",
    "    for i in range(n):\n",
    "        if i%100==1:\n",
    "            print(i)\n",
    "\n",
    "        prev_beta = beta\n",
    "        y_pred = X[i,:].dot(prev_beta)\n",
    "        loss_i = (y_pred-y[i,0])**2\n",
    "        current_detection_rate = (np.sum((np.multiply(true_beta,prev_beta)!=0)*1.0))*1.0/k\n",
    "        \n",
    "#         print(loss_i,current_detection_rate)\n",
    "        \n",
    "        squared_error_sum += loss_i\n",
    "        true_support_sum += current_detection_rate\n",
    "                    \n",
    "        # Finding $\\hat{beta}$ by OLS\n",
    "        X_current, y_current = X[i,:].reshape((1,p)), y[i]\n",
    "        mu_x = i*mu_x/(i+1) + X_current*1.0/(i+1)\n",
    "        mu_y = i*mu_y/(i+1) + y_current*1.0/(i+1)\n",
    "        S_xx = S_xx*i/(i+1) + np.dot(X_current.T,X_current)*1.0/(i+1)\n",
    "        S_xy = S_xy*i/(i+1) + y_current*X_current.T*1.0/(i+1)\n",
    "    \n",
    "        # Normalization\n",
    "        if i>=1:\n",
    "            Pi = np.linalg.inv(np.sqrt(np.multiply((S_xx - np.square(mu_x)),np.identity(p))))\n",
    "            S_xx_n = np.dot(Pi, S_xx-np.dot(mu_x,mu_x.T))\n",
    "            S_xx_n = np.dot(S_xx_n,Pi)\n",
    "\n",
    "            S_xy_n = np.dot(Pi, S_xy) - mu_y*np.dot(Pi, mu_x.T).reshape((p,1))\n",
    "\n",
    "        clf = Ridge(alpha=0.001)\n",
    "        if k==10:\n",
    "            clf = Ridge(alpha=0.001)\n",
    "        if k==100 and rho!=0:\n",
    "            clf = Ridge(alpha=1.0)\n",
    "        \n",
    "        if i==0:\n",
    "            clf.fit(S_xx,S_xy)\n",
    "        else:\n",
    "            clf.fit(S_xx_n,S_xy_n)\n",
    "        beta = clf.coef_.reshape((p,))\n",
    "\n",
    "        # Keeping only k variables with largest $|\\hat{\\beta}_j|$\n",
    "        sorted_indices = np.abs(beta).argsort()[::-1].tolist()\n",
    "        k_biggest_indices = np.sort(sorted_indices[:k])\n",
    "        \n",
    "        # Fitting the model on the selected features by OLS\n",
    "        selected_X = X[:i+1,k_biggest_indices]\n",
    "\n",
    "        clf = Ridge(alpha=0.0001)\n",
    "        if k==10:\n",
    "            clf = Ridge(alpha=0.0001)\n",
    "        if k==100 and rho!=0:       \n",
    "            clf = Ridge(alpha=0.1)\n",
    "        clf.fit(selected_X, y[:i+1])\n",
    "        OLS_beta = clf.coef_.reshape((k,))\n",
    "        \n",
    "#         OLS_beta = np.dot(np.linalg.inv(np.dot(selected_X.T,selected_X)),np.dot(selected_X.T,y_current))\n",
    "                \n",
    "        beta = np.zeros(p)\n",
    "        for j,ind in enumerate(k_biggest_indices):\n",
    "            beta[ind] = OLS_beta[j]\n",
    "\n",
    "        if i in ns:\n",
    "            end = timer()\n",
    "            Time = end-start\n",
    "            \n",
    "            RMSE = np.sqrt(squared_error_sum*1.0/i)\n",
    "            DR = true_support_sum*1.0/i\n",
    "\n",
    "            SS_tot = np.sum(np.square(y[:i+1]-np.mean(y[:i+1])))\n",
    "            Rsquared = 1-squared_error_sum*1.0/SS_tot\n",
    "\n",
    "            regret = squared_error_sum*1.0/n - min_offline_errors[n_idx]\n",
    "\n",
    "            if n_idx != len(ns) - 1:\n",
    "                n_idx += 1\n",
    "\n",
    "            print(RMSE,DR,Rsquared,Time,regret,i+1,'OLST')\n",
    "    \n",
    "    return()"
   ]
  },
  {
   "cell_type": "code",
   "execution_count": 43,
   "metadata": {
    "collapsed": false
   },
   "outputs": [
    {
     "name": "stdout",
     "output_type": "stream",
     "text": [
      "1\n"
     ]
    },
    {
     "name": "stderr",
     "output_type": "stream",
     "text": [
      "/Users/fransiscasusan/anaconda3/lib/python3.6/site-packages/scipy/linalg/basic.py:223: RuntimeWarning: scipy.linalg.solve\n",
      "Ill-conditioned matrix detected. Result is not guaranteed to be accurate.\n",
      "Reciprocal condition number: 2.355448258192828e-21\n",
      "  ' condition number: {}'.format(rcond), RuntimeWarning)\n",
      "/Users/fransiscasusan/anaconda3/lib/python3.6/site-packages/scipy/linalg/basic.py:223: RuntimeWarning: scipy.linalg.solve\n",
      "Ill-conditioned matrix detected. Result is not guaranteed to be accurate.\n",
      "Reciprocal condition number: 2.131469109782073e-18\n",
      "  ' condition number: {}'.format(rcond), RuntimeWarning)\n",
      "/Users/fransiscasusan/anaconda3/lib/python3.6/site-packages/scipy/linalg/basic.py:223: RuntimeWarning: scipy.linalg.solve\n",
      "Ill-conditioned matrix detected. Result is not guaranteed to be accurate.\n",
      "Reciprocal condition number: 3.407537493882403e-17\n",
      "  ' condition number: {}'.format(rcond), RuntimeWarning)\n"
     ]
    },
    {
     "name": "stdout",
     "output_type": "stream",
     "text": [
      "101\n",
      "201\n",
      "301\n",
      "401\n",
      "501\n",
      "601\n",
      "701\n",
      "801\n",
      "901\n",
      "2.026001052106114 0.9207207207207206 0.5784471252822158 217.18382744397968 -19441.516793127525 1000 OLST\n",
      "CPU times: user 8min 51s, sys: 23.3 s, total: 9min 15s\n",
      "Wall time: 3min 37s\n"
     ]
    },
    {
     "data": {
      "text/plain": [
       "()"
      ]
     },
     "execution_count": 43,
     "metadata": {},
     "output_type": "execute_result"
    }
   ],
   "source": [
    "%%time\n",
    "# k=10\n",
    "run_OLST(X,y,true_beta,k,rho,min_offline_errors)"
   ]
  },
  {
   "cell_type": "code",
   "execution_count": 35,
   "metadata": {
    "collapsed": false
   },
   "outputs": [
    {
     "name": "stdout",
     "output_type": "stream",
     "text": [
      "1\n"
     ]
    },
    {
     "name": "stderr",
     "output_type": "stream",
     "text": [
      "/Users/fransiscasusan/anaconda3/lib/python3.6/site-packages/scipy/linalg/basic.py:223: RuntimeWarning: scipy.linalg.solve\n",
      "Ill-conditioned matrix detected. Result is not guaranteed to be accurate.\n",
      "Reciprocal condition number: 6.90924838998484e-21\n",
      "  ' condition number: {}'.format(rcond), RuntimeWarning)\n",
      "/Users/fransiscasusan/anaconda3/lib/python3.6/site-packages/scipy/linalg/basic.py:223: RuntimeWarning: scipy.linalg.solve\n",
      "Ill-conditioned matrix detected. Result is not guaranteed to be accurate.\n",
      "Reciprocal condition number: 9.012674642946503e-20\n",
      "  ' condition number: {}'.format(rcond), RuntimeWarning)\n",
      "/Users/fransiscasusan/anaconda3/lib/python3.6/site-packages/scipy/linalg/basic.py:223: RuntimeWarning: scipy.linalg.solve\n",
      "Ill-conditioned matrix detected. Result is not guaranteed to be accurate.\n",
      "Reciprocal condition number: 1.5317212493085947e-17\n",
      "  ' condition number: {}'.format(rcond), RuntimeWarning)\n"
     ]
    },
    {
     "name": "stdout",
     "output_type": "stream",
     "text": [
      "101\n",
      "201\n",
      "301\n",
      "401\n",
      "501\n",
      "601\n",
      "701\n",
      "801\n",
      "901\n",
      "10.881980546689126 0.61242242242242 -0.15422203613212915 220.0004774958361 -204857.2724323871 1000 OLST\n",
      "CPU times: user 8min 59s, sys: 29.5 s, total: 9min 29s\n",
      "Wall time: 3min 40s\n"
     ]
    },
    {
     "data": {
      "text/plain": [
       "()"
      ]
     },
     "execution_count": 35,
     "metadata": {},
     "output_type": "execute_result"
    }
   ],
   "source": [
    "%%time\n",
    "# k=100\n",
    "run_OLST(X,y,true_beta,k,rho,min_offline_errors)"
   ]
  },
  {
   "cell_type": "markdown",
   "metadata": {},
   "source": [
    "## Implementing OLST-TSGD"
   ]
  },
  {
   "cell_type": "code",
   "execution_count": null,
   "metadata": {
    "collapsed": true
   },
   "outputs": [],
   "source": [
    "'''\n",
    "Hybrid ALGORITHM\n",
    "'''\n",
    "def run_hybrid(X,y,true_beta,k,rho,min_offline_errors,BURNIN):\n",
    "    start = timer()\n",
    "    n, p = X.shape\n",
    "    ns = NS\n",
    "    ns = [nn-1 for nn in ns]\n",
    "    n_idx = 0\n",
    "    eta = np.log(ns[n_idx])*1.0/ns[n_idx]\n",
    "    y = y.reshape((n,1))\n",
    "\n",
    "    squared_error_sum = 0\n",
    "    true_support_sum = 0\n",
    "\n",
    "    beta = np.random.rand(p)-0.5\n",
    "\n",
    "    #INITIALIZATION\n",
    "    mu_x = np.zeros(p)\n",
    "    mu_y = 0\n",
    "    S_xx = np.zeros((p,p))\n",
    "    S_xy = np.zeros((p,1))\n",
    "\n",
    "    for i in range(BURNIN):\n",
    "\n",
    "        prev_beta = beta\n",
    "        y_pred = X[i,:].dot(prev_beta)\n",
    "        loss_i = (y_pred-y[i,0])**2\n",
    "        current_detection_rate = (np.sum((np.multiply(true_beta,prev_beta)!=0)*1.0))*1.0/k\n",
    "        \n",
    "        squared_error_sum += loss_i\n",
    "        true_support_sum += current_detection_rate\n",
    "        \n",
    "        # Finding $\\hat{beta}$ by OLS\n",
    "        X_current, y_current = X[i,:].reshape((1,p)), y[i]\n",
    "        mu_x = i*mu_x/(i+1) + X_current*1.0/(i+1)\n",
    "        mu_y = i*mu_y/(i+1) + y_current*1.0/(i+1)\n",
    "        S_xx = S_xx*i/(i+1) + np.dot(X_current.T,X_current)*1.0/(i+1)\n",
    "        S_xy = S_xy*i/(i+1) + y_current*X_current.T*1.0/(i+1)\n",
    "    \n",
    "        # Normalization\n",
    "        if i>=1:\n",
    "            Pi = np.linalg.inv(np.sqrt(np.multiply((S_xx - np.square(mu_x)),np.identity(p))))\n",
    "            S_xx_n = np.dot(Pi, S_xx-np.dot(mu_x,mu_x.T))\n",
    "            S_xx_n = np.dot(S_xx_n,Pi)\n",
    "\n",
    "            S_xy_n = np.dot(Pi, S_xy) - mu_y*np.dot(Pi, mu_x.T).reshape((p,1))\n",
    "\n",
    "\n",
    "        clf = Ridge(alpha=0.001)\n",
    "        if k==10:\n",
    "            clf = Ridge(alpha=0.001)\n",
    "        if k==100 and rho!=0:\n",
    "            clf = Ridge(alpha=1.0)\n",
    "        \n",
    "        if i==0:\n",
    "            clf.fit(S_xx,S_xy)\n",
    "        else:\n",
    "            clf.fit(S_xx_n, S_xy_n)\n",
    "        beta = clf.coef_.reshape((p,))\n",
    "\n",
    "        # Keeping only k variables with largest $|\\hat{\\beta}_j|$\n",
    "        sorted_indices = np.abs(beta).argsort()[::-1].tolist()\n",
    "        k_biggest_indices = np.sort(sorted_indices[:k])\n",
    "        \n",
    "        # Fitting the model on the selected features by OLS\n",
    "        selected_X = X[:i+1,k_biggest_indices]\n",
    "\n",
    "        clf = Ridge(alpha=0.0001)\n",
    "        if k==10:\n",
    "            clf = Ridge(alpha=0.0001)\n",
    "        if k==100 and rho!=0:       \n",
    "            clf = Ridge(alpha=0.1)\n",
    "        clf.fit(selected_X, y[:i+1])\n",
    "        OLS_beta = clf.coef_.reshape((k,))\n",
    "        \n",
    "#         OLS_beta = np.dot(np.linalg.inv(np.dot(selected_X.T,selected_X)),np.dot(selected_X.T,y_current))\n",
    "                \n",
    "        beta = np.zeros(p)\n",
    "        for j,ind in enumerate(k_biggest_indices):\n",
    "            beta[ind] = OLS_beta[j]\n",
    "\n",
    "        if i in ns:\n",
    "            end = timer()\n",
    "            Time = end-start\n",
    "            \n",
    "            RMSE = np.sqrt(squared_error_sum*1.0/i)\n",
    "            DR = true_support_sum*1.0/i\n",
    "\n",
    "            SS_tot = np.sum(np.square(y[:i+1]-np.mean(y[:i+1])))\n",
    "            Rsquared = 1-squared_error_sum*1.0/SS_tot\n",
    "\n",
    "            regret = squared_error_sum*1.0/n - min_offline_errors[n_idx]\n",
    "\n",
    "            if n_idx != len(ns) - 1:\n",
    "                n_idx += 1\n",
    "                eta = np.log(ns[n_idx])*1.0/ns[n_idx]\n",
    "\n",
    "            print(RMSE,DR,Rsquared,Time,regret,i+1,'OLST-hybrid')\n",
    "\n",
    "    y = y.reshape((n,))\n",
    "    for i in range(BURNIN, n):\n",
    "\n",
    "        prev_beta = beta\n",
    "        y_pred = X[i,:].dot(prev_beta)\n",
    "        \n",
    "        loss_i = (y_pred-y[i,])**2\n",
    "        current_detection_rate = (np.sum((np.multiply(true_beta,prev_beta)!=0)*1.0))*1.0/k\n",
    "        squared_error_sum += loss_i\n",
    "        true_support_sum += current_detection_rate\n",
    "        \n",
    "        beta = prev_beta + eta*(y[i]-np.dot(X[i,:],prev_beta))*X[i,:]\n",
    "        beta = truncate(beta,k)\n",
    "\n",
    "        if i in ns:\n",
    "            end = timer()\n",
    "            Time = end-start\n",
    "            \n",
    "            RMSE = np.sqrt(squared_error_sum*1.0/i)\n",
    "            DR = true_support_sum*1.0/i\n",
    "\n",
    "            SS_tot = np.sum(np.square(y[:i+1]-np.mean(y[:i+1])))\n",
    "            Rsquared = 1-squared_error_sum*1.0/SS_tot\n",
    "            \n",
    "            regret = squared_error_sum*1.0/i - min_offline_errors[n_idx]\n",
    "\n",
    "            if n_idx != len(ns) - 1:\n",
    "                n_idx += 1\n",
    "                eta = np.log(ns[n_idx])*1.0/ns[n_idx]\n",
    "\n",
    "            print(RMSE,DR,Rsquared,Time,regret,i+1,'TSGD-hybrid')\n",
    "    \n",
    "    return()"
   ]
  },
  {
   "cell_type": "code",
   "execution_count": null,
   "metadata": {
    "collapsed": false
   },
   "outputs": [],
   "source": [
    "run_hybrid(X,y,true_beta,k,rho,min_offline_errors,50)"
   ]
  },
  {
   "cell_type": "markdown",
   "metadata": {},
   "source": [
    "## COMPARISON"
   ]
  },
  {
   "cell_type": "code",
   "execution_count": 42,
   "metadata": {
    "collapsed": false
   },
   "outputs": [
    {
     "name": "stdout",
     "output_type": "stream",
     "text": [
      "139.44754343017448 1.0 -1998.074455957402 0.029607095988467336 OMP\n"
     ]
    }
   ],
   "source": [
    "min_offline_errors = []\n",
    "for n in NS:\n",
    "    Xn        = X[:n,:]\n",
    "    yn         = y[:n]\n",
    "    res_omp = run_omp(Xn,yn,true_beta,k)\n",
    "    min_offline_errors.append(res_omp[-1])"
   ]
  },
  {
   "cell_type": "code",
   "execution_count": null,
   "metadata": {
    "collapsed": false
   },
   "outputs": [],
   "source": [
    "for n in NS:\n",
    "    Xn          = X[:n,:]\n",
    "    yn          = y[:n]\n",
    "    run_Lasso(Xn,yn,true_beta,k)"
   ]
  },
  {
   "cell_type": "code",
   "execution_count": null,
   "metadata": {
    "collapsed": false
   },
   "outputs": [],
   "source": [
    "run_TSGD(X,y,true_beta,k,min_offline_errors)"
   ]
  },
  {
   "cell_type": "code",
   "execution_count": null,
   "metadata": {
    "collapsed": true
   },
   "outputs": [],
   "source": [
    "run_OLST(X,y,true_beta,k,rho,min_offline_errors)"
   ]
  },
  {
   "cell_type": "code",
   "execution_count": null,
   "metadata": {
    "collapsed": true
   },
   "outputs": [],
   "source": [
    "run_hybrid(X,y,true_beta,k,rho,min_offline_errors,50)"
   ]
  },
  {
   "cell_type": "code",
   "execution_count": null,
   "metadata": {
    "collapsed": true
   },
   "outputs": [],
   "source": [
    "run_hybrid(X,y,true_beta,k,rho,min_offline_errors,500)"
   ]
  }
 ],
 "metadata": {
  "kernelspec": {
   "display_name": "Python 3",
   "language": "python",
   "name": "python3"
  },
  "language_info": {
   "codemirror_mode": {
    "name": "ipython",
    "version": 3
   },
   "file_extension": ".py",
   "mimetype": "text/x-python",
   "name": "python",
   "nbconvert_exporter": "python",
   "pygments_lexer": "ipython3",
   "version": "3.6.7"
  }
 },
 "nbformat": 4,
 "nbformat_minor": 2
}
